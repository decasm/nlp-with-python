{
 "cells": [
  {
   "cell_type": "code",
   "execution_count": null,
   "metadata": {
    "collapsed": true
   },
   "outputs": [],
   "source": [
    "import os\n",
    "import sys\n",
    "import json\n",
    "from collections import Counter\n",
    "\n",
    "try:\n",
    "    directory = sys.args[1]\n",
    "except:\n",
    "    directory = '../review_json/'\n",
    "\n",
    "def load_reviews(directory):\n",
    "    file_names = os.listdir(directory)\n",
    "    reviews = [json.loads(open(directory+fn, 'r').read()) for fn in file_names]\n",
    "    reviews.sort(key=lambda r:len(r['text']\n",
    "                                 )) # sort by length of review\n",
    "    reviews = reviews[5:] # get rid of 5 shortest reviews\n",
    "    for r in reviews:\n",
    "        r.pop('by') # remove 'by' field in each review\n",
    "    return reviews\n",
    "\n",
    "reviews = load_reviews(directory)\n",
    "reviews.sort(key=lambda r:r['release_year']) # sort by release_year\n",
    "titles = {r['title']:r for r in reviews} # dict of reviews by title"
   ]
  },
  {
   "cell_type": "code",
   "execution_count": null,
   "metadata": {
    "collapsed": true
   },
   "outputs": [],
   "source": [
    "import spacy\n",
    "nlp = spacy.load('en') # takes time"
   ]
  },
  {
   "cell_type": "code",
   "execution_count": null,
   "metadata": {
    "collapsed": true
   },
   "outputs": [],
   "source": [
    "mr = titles['Minority Report (2002)']\n",
    "mr_text = mr['text']\n",
    "mr_doc = nlp(mr_text)\n",
    "type(mr_doc) # spacy.tokens.doc.Doc"
   ]
  },
  {
   "cell_type": "code",
   "execution_count": null,
   "metadata": {
    "collapsed": true
   },
   "outputs": [],
   "source": [
    "mr_doc.text"
   ]
  },
  {
   "cell_type": "code",
   "execution_count": null,
   "metadata": {
    "collapsed": true
   },
   "outputs": [],
   "source": [
    "list(mr_doc.sents)"
   ]
  },
  {
   "cell_type": "code",
   "execution_count": null,
   "metadata": {
    "collapsed": true
   },
   "outputs": [],
   "source": [
    "len(list(mr_doc.sents)) # 49"
   ]
  },
  {
   "cell_type": "code",
   "execution_count": null,
   "metadata": {
    "collapsed": true
   },
   "outputs": [],
   "source": [
    "list(mr_doc)"
   ]
  },
  {
   "cell_type": "code",
   "execution_count": null,
   "metadata": {
    "collapsed": true
   },
   "outputs": [],
   "source": [
    "len(mr_doc) # 1376 tokens"
   ]
  },
  {
   "cell_type": "code",
   "execution_count": null,
   "metadata": {
    "collapsed": true
   },
   "outputs": [],
   "source": [
    "list(mr_doc)[:30]"
   ]
  },
  {
   "cell_type": "code",
   "execution_count": null,
   "metadata": {
    "collapsed": true
   },
   "outputs": [],
   "source": [
    "type(mr_doc[0]) # spacy.tokens.token.Token\n",
    "token = mr_doc[0]"
   ]
  },
  {
   "cell_type": "markdown",
   "metadata": {},
   "source": [
    "dependency parser visualization\n",
    "https://demos.explosion.ai/displacy/\n",
    "enter:\n",
    "At a time when movies think they have to choose between action and ideas, Steven Spielberg's \"Minority Report\" is a triumph--a film that works on our minds and our emotions."
   ]
  },
  {
   "cell_type": "code",
   "execution_count": null,
   "metadata": {
    "collapsed": true
   },
   "outputs": [],
   "source": [
    "# token.[TAB] to see ways to navigate the grammatical tree of the sentence\n",
    "token.pos_"
   ]
  },
  {
   "cell_type": "code",
   "execution_count": null,
   "metadata": {
    "collapsed": true
   },
   "outputs": [],
   "source": [
    "token.head # is"
   ]
  },
  {
   "cell_type": "code",
   "execution_count": null,
   "metadata": {
    "collapsed": true
   },
   "outputs": [],
   "source": [
    "list(token.children) # time"
   ]
  },
  {
   "cell_type": "code",
   "execution_count": null,
   "metadata": {
    "collapsed": true
   },
   "outputs": [],
   "source": [
    "token.lemma # 507--a unique identifier for this word in the spaCy English vocab"
   ]
  },
  {
   "cell_type": "markdown",
   "metadata": {},
   "source": [
    "explore other sentences in the dependency visualizer"
   ]
  },
  {
   "cell_type": "code",
   "execution_count": null,
   "metadata": {
    "collapsed": true
   },
   "outputs": [],
   "source": [
    "# let's break down nlp() into its component parts\n",
    "mr_doc = nlp.tokenizer(mr_text) # parses into spacy.tokens.token.Token objects\n",
    "nlp.tagger(mr_doc) # pos tagger\n",
    "nlp.parser(mr_doc) # dependency parser\n",
    "nlp.entity(mr_doc) # entity recongizer"
   ]
  },
  {
   "cell_type": "code",
   "execution_count": null,
   "metadata": {
    "collapsed": true
   },
   "outputs": [],
   "source": [
    "# lots of processing is done with a simple call to nlp()\n",
    "list((tok.text, tok.pos_) for tok in mr_doc) # tokens with their pos"
   ]
  },
  {
   "cell_type": "code",
   "execution_count": null,
   "metadata": {
    "collapsed": true
   },
   "outputs": [],
   "source": [
    "list(mr_doc.noun_chunks)"
   ]
  },
  {
   "cell_type": "code",
   "execution_count": null,
   "metadata": {
    "collapsed": true
   },
   "outputs": [],
   "source": [
    "for sent in mr_doc.sents:\n",
    "    print(sent.orth_)\n",
    "    print(sent.root)\n",
    "    print('')"
   ]
  },
  {
   "cell_type": "code",
   "execution_count": null,
   "metadata": {
    "collapsed": true
   },
   "outputs": [],
   "source": [
    "mr_doc.ents"
   ]
  },
  {
   "cell_type": "code",
   "execution_count": null,
   "metadata": {
    "collapsed": true
   },
   "outputs": [],
   "source": [
    "# built-in entity types\n",
    "# https://spacy.io/docs/usage/entity-recognition\n",
    "entity = mr_doc.ents[0]\n",
    "entity.orth_ # orthographic representation \"Steven Spielberg's\""
   ]
  },
  {
   "cell_type": "code",
   "execution_count": null,
   "metadata": {
    "collapsed": true
   },
   "outputs": [],
   "source": [
    "entity.label_ # 'PERSON'"
   ]
  },
  {
   "cell_type": "code",
   "execution_count": null,
   "metadata": {
    "collapsed": true
   },
   "outputs": [],
   "source": [
    "entities = [e for e in mr_doc.ents]\n",
    "people = [e for e in entities if e.label_=='PERSON']\n",
    "artworks = [e for e in entities if e.label_=='WORK_OF_ART']\n",
    "dates = [e for e in entities if e.label_=='DATE'] # error: 'mid-air'"
   ]
  },
  {
   "cell_type": "markdown",
   "metadata": {},
   "source": [
    "Named Entity Recognition (NER) visualization\n",
    "https://demos.explosion.ai/displacy-ent/"
   ]
  },
  {
   "cell_type": "code",
   "execution_count": null,
   "metadata": {
    "collapsed": true
   },
   "outputs": [],
   "source": [
    "# let's process multiple docs\n",
    "# doing all of them will take forever:\n",
    "#for r in reviews:\n",
    "#    print(r['title'])\n",
    "#    docs.append(nlp(r['text']))"
   ]
  },
  {
   "cell_type": "code",
   "execution_count": null,
   "metadata": {
    "collapsed": true
   },
   "outputs": [],
   "source": [
    "g_rated = [r for r in reviews if r['mpaa_rating']=='G']\n",
    "len(g_rated)"
   ]
  },
  {
   "cell_type": "code",
   "execution_count": null,
   "metadata": {
    "collapsed": true
   },
   "outputs": [],
   "source": [
    "g_titles = {r['title']:r for r in g_rated}\n",
    "for r in g_rated:\n",
    "    print(r['title'])\n",
    "    r['doc'] = nlp(r['text'])"
   ]
  },
  {
   "cell_type": "code",
   "execution_count": null,
   "metadata": {
    "collapsed": true
   },
   "outputs": [],
   "source": [
    "mermaid_doc = g_titles['The Little Mermaid (1989)']['doc']\n",
    "g_rated.sort(key=lambda r:r['doc'].similarity(mermaid_doc))\n",
    "g_rated[-1]['title'] # The Little Mermaid (same)"
   ]
  },
  {
   "cell_type": "code",
   "execution_count": null,
   "metadata": {
    "collapsed": true
   },
   "outputs": [],
   "source": [
    "g_rated[-2]['title'] # Aladdin"
   ]
  },
  {
   "cell_type": "code",
   "execution_count": null,
   "metadata": {
    "collapsed": true
   },
   "outputs": [],
   "source": [
    "g_rated[-3]['title'] # Beauty And The Beast"
   ]
  },
  {
   "cell_type": "code",
   "execution_count": null,
   "metadata": {
    "collapsed": true
   },
   "outputs": [],
   "source": [
    "g_rated[0]['title'] # Stormchasers"
   ]
  },
  {
   "cell_type": "code",
   "execution_count": null,
   "metadata": {
    "collapsed": true
   },
   "outputs": [],
   "source": [
    "g_rated[1]['title'] # Microcosmos"
   ]
  },
  {
   "cell_type": "code",
   "execution_count": null,
   "metadata": {
    "collapsed": true
   },
   "outputs": [],
   "source": [
    "g_rated[2]['title'] # Hubble 3D"
   ]
  },
  {
   "cell_type": "code",
   "execution_count": null,
   "metadata": {
    "collapsed": true
   },
   "outputs": [],
   "source": [
    "# let's see everything\n",
    "mermaid_like = [(mermaid_doc.similarity(r['doc']),r) for r in g_rated]\n",
    "for sim_score, r in mermaid_like:\n",
    "    print(sim_score, r['title'])"
   ]
  },
  {
   "cell_type": "markdown",
   "metadata": {},
   "source": [
    "semantic similarity visualization\n",
    "https://demos.explosion.ai/sense2vec/?word=natural%20language%20processing&sense=auto\n",
    "\n",
    "could create matrix of similarities ... would take a long time\n",
    "with matrix, could find most similar/disimilar pairs in a bunch\n",
    "could collect disaster movies (23) to find these matches\n",
    "\n",
    "named entities:\n",
    "- pull out different types of named entities\n",
    "- aggregate named entities across reviews\n",
    "- look at aggregates of different types of named entities across corpus\n",
    "\n",
    "knowledge extraction\n",
    "extract groups of subject-relation-direct object triples"
   ]
  }
 ],
 "metadata": {
  "kernelspec": {
   "display_name": "Python 3",
   "language": "python",
   "name": "python3"
  },
  "language_info": {
   "codemirror_mode": {
    "name": "ipython",
    "version": 3
   },
   "file_extension": ".py",
   "mimetype": "text/x-python",
   "name": "python",
   "nbconvert_exporter": "python",
   "pygments_lexer": "ipython3",
   "version": "3.6.0"
  }
 },
 "nbformat": 4,
 "nbformat_minor": 2
}
